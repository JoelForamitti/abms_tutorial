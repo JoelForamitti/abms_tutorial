{
 "cells": [
  {
   "cell_type": "code",
   "execution_count": null,
   "metadata": {},
   "outputs": [],
   "source": [
    "#!pip install agentpy"
   ]
  },
  {
   "cell_type": "code",
   "execution_count": 53,
   "metadata": {},
   "outputs": [],
   "source": [
    "import agentpy as ap\n",
    "#import numpy as np  # Scientific computing tools\n",
    "import matplotlib.pyplot as plt  # Visualization\n",
    "import random\n",
    "import networkx as nx\n",
    "#import seaborn as sns\n",
    "import IPython"
   ]
  },
  {
   "cell_type": "code",
   "execution_count": 55,
   "metadata": {},
   "outputs": [],
   "source": [
    "class ConsumerAgent(ap.Agent):\n",
    "    \"\"\" A consumer \"\"\"\n",
    "    def setup(self):\n",
    "        self.ad_effectiveness = 0.01 # percentage of non-adopter who will become adopter through advertisement\n",
    "        self.adoption_fraction = 0.01 # percentage of non-adopter who will become adopter after they come into contact with an adopter\n",
    "        self.contact_rate = 1 # 1 contact per day\n",
    "        self.is_adopter = 0 # current state is non-adopter\n",
    "        self.become_adopter = False # a flag to indicate it will become an adopter (to be called during update())\n",
    "\n",
    "    #def step(self):\n",
    "    #    if self.is_adopter == 1: # is an adopter\n",
    "    #        for contact in range(self.contact_rate):\n",
    "    #            partner = self.neighbors().random()\n",
    "    #            if random.random() < self.adoption_fraction: partner.become_adopter = True\n",
    "    #    elif random.random() < self.ad_effectiveness: self.become_adopter = True\n",
    "\n",
    "    def receive_wom(self):\n",
    "        if random.random() < self.adoption_fraction: become_adopter = True\n",
    "            \n",
    "    def step(self):\n",
    "        if random.random() < self.ad_effectiveness: self.become_adopter = True\n",
    "        if self.is_adopter == 1: # is an adopter\n",
    "            for contact in range(self.contact_rate):\n",
    "                partner = self.neighbors().random()\n",
    "                partner.receive_wom()\n",
    "                \n",
    "    def update(self):\n",
    "        if self.is_adopter == 0:\n",
    "            if self.become_adopter == True: self.is_adopter = 1"
   ]
  },
  {
   "cell_type": "code",
   "execution_count": 60,
   "metadata": {},
   "outputs": [],
   "source": [
    "class MarketModel(ap.Model):\n",
    "    \"\"\" A market model \"\"\"\n",
    "    def setup(self):\n",
    "        # Prepare a small-world network\n",
    "        graph = nx.watts_strogatz_graph(self.p.n_agents, self.p.n_neighbors, self.p.network_randomness)\n",
    "        self.add_agents(self.p.n_agents, ConsumerAgent)\n",
    "        self.add_network(graph=graph, agents=self.agents)\n",
    "\n",
    "    def step(self):\n",
    "        self.agents.step()\n",
    "\n",
    "    def update(self):\n",
    "        self.agents.update()\n",
    "        n_adopters = len(self.agents.select(self.agents.is_adopter == 1))\n",
    "        self.record('n_adopters', n_adopters)\n",
    "        #print(n_adopters)\n",
    "\n",
    "    def end(self):\n",
    "        self.agents.record('is_adopter')"
   ]
  },
  {
   "cell_type": "code",
   "execution_count": 61,
   "metadata": {},
   "outputs": [],
   "source": [
    "parameters = {\n",
    "    'steps': 300,\n",
    "    'n_agents': 1000,\n",
    "    'n_neighbors': 2,\n",
    "    'network_randomness': 0.5\n",
    "}"
   ]
  },
  {
   "cell_type": "code",
   "execution_count": 62,
   "metadata": {},
   "outputs": [
    {
     "name": "stdout",
     "output_type": "stream",
     "text": [
      "Completed: 300 steps\n",
      "Run time: 0:00:25.399151\n",
      "Simulation finished\n"
     ]
    }
   ],
   "source": [
    "model = MarketModel(parameters)\n",
    "results = model.run()"
   ]
  },
  {
   "cell_type": "code",
   "execution_count": 63,
   "metadata": {},
   "outputs": [
    {
     "data": {
      "image/png": "[encoded data removed]",
      "text/plain": [
       "<Figure size 432x288 with 1 Axes>"
      ]
     },
     "metadata": {
      "needs_background": "light"
     },
     "output_type": "display_data"
    }
   ],
   "source": [
    "data = results.variables.MarketModel\n",
    "ax = data.plot()"
   ]
  },
  {
   "cell_type": "code",
   "execution_count": null,
   "metadata": {},
   "outputs": [],
   "source": [
    "def animation_plot(m, axs):\n",
    "    ax1, ax2 = axs\n",
    "    ax1.set_title(\"Adoption\")\n",
    "    ax2.set_title(\"Network\")\n",
    "\n",
    "    # Plot stackplot on first axis\n",
    "    data = results.variables.MarketModel\n",
    "    ax = data.plot()\n",
    "\n",
    "    # Plot network on second axis\n",
    "    nx.draw_circular(m.env.graph, node_size=50, ax=ax2)\n",
    "\n",
    "fig, axs = plt.subplots(1, 2, figsize=(8, 4)) # Prepare figure\n",
    "parameters['n_agents'] = 50 # Lower population for better visibility\n",
    "animation = ap.animate(MarketModel(parameters), fig, axs, animation_plot)"
   ]
  },
  {
   "cell_type": "code",
   "execution_count": null,
   "metadata": {},
   "outputs": [],
   "source": [
    "IPython.display.HTML(animation.to_jshtml())"
   ]
  },
  {
   "cell_type": "code",
   "execution_count": null,
   "metadata": {},
   "outputs": [],
   "source": []
  }
 ],
 "metadata": {
  "kernelspec": {
   "display_name": "Python 3",
   "language": "python",
   "name": "python3"
  },
  "language_info": {
   "codemirror_mode": {
    "name": "ipython",
    "version": 3
   },
   "file_extension": ".py",
   "mimetype": "text/x-python",
   "name": "python",
   "nbconvert_exporter": "python",
   "pygments_lexer": "ipython3",
   "version": "3.8.3"
  }
 },
 "nbformat": 4,
 "nbformat_minor": 4
}
